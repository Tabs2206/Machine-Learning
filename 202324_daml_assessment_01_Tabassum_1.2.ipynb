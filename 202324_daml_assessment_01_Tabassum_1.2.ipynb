{
  "nbformat": 4,
  "nbformat_minor": 0,
  "metadata": {
    "colab": {
      "provenance": []
    },
    "kernelspec": {
      "name": "python3",
      "display_name": "Python 3"
    },
    "language_info": {
      "name": "python"
    }
  },
  "cells": [
    {
      "cell_type": "markdown",
      "source": [
        "---\n",
        "# Data Analysis and Machine Learning\n",
        "---\n",
        "## Assessment 01\n",
        "\n",
        "One popular area of application for machine learning in chemistry is the prediction of molecular properties; these are time- and resource-intensive to calculate using traditional computational chemical programs, but can be predicted using machine-learning models in a tiny fraction of the time.\n",
        "\n",
        "Your dataset contains computational chemical data for iron-containing molecules - feature vectors that describe their structure (***X***), and a selection of their properties (***y***). Your task is to build two machine-learning models:\n",
        "- a **regression model for predicting the HOMO-LUMO gap** (one of the properties that you are provided with); the HOMO-LUMO gap is the smallest amount of energy needed to excite an electron in a molecule, and is a useful property to know for optoelectronics applications.\n",
        "- a **classification model for predicting whether the number of neighbouring atoms around the iron atom in the molecule is i) less than 6, ii) 6, or iii) greater than 6**; the number of neighbouring atoms is called the '*coordination number*', and it tells us about the three-dimensional structure of the molecule.\n",
        "\n",
        "The full dataset contains 4446 examples. Each molecule is encoded as a feature vector of 40 values, and there are 9 possible target values to predict. A train/test (0.95/0.05) split has already been carried out and you only have access to the training dataset (containing 4223 examples). The testing dataset (containing the remaining 223 examples) is hidden - **you are not going to receive a copy of this.**\n",
        "\n",
        "There are two .csv files in this directory:\n",
        "- `x_train.csv`, containing 4223 examples with 40 features each.\n",
        "- `y_train.csv`, containing 4223 examples with 9 targets each.\n",
        "\n",
        "If you cannot get code to work, comment it out and write comments about what you are trying to do and how it fails. All code should generally be commented where appropriate as good practice dictates. When you have finished, use the option on the File menu to download this notebook as in .ipynb format and upload it to the submission point on the VLE."
      ],
      "metadata": {
        "id": "ZNWbaIDYFbK2"
      }
    },
    {
      "cell_type": "markdown",
      "source": [
        "Before you start, click the &#x25B8; icon below to allow colab to access the data files in your drive."
      ],
      "metadata": {
        "id": "o60v467SesrH"
      }
    },
    {
      "cell_type": "code",
      "execution_count": 1,
      "metadata": {
        "id": "zeiwxmjkFYoD",
        "colab": {
          "base_uri": "https://localhost:8080/"
        },
        "outputId": "ae04df31-9350-4a0a-812e-6b3c430ca4be"
      },
      "outputs": [
        {
          "output_type": "stream",
          "name": "stdout",
          "text": [
            "Drive already mounted at /content/drive; to attempt to forcibly remount, call drive.mount(\"/content/drive\", force_remount=True).\n"
          ]
        }
      ],
      "source": [
        "from google.colab import drive; drive.mount('/content/drive')"
      ]
    },
    {
      "cell_type": "markdown",
      "source": [
        "... and click the &#x25B8; icon below to import the `numpy` and `matplotlib.pyplot` libraries:"
      ],
      "metadata": {
        "id": "rAkfVjZIVdgZ"
      }
    },
    {
      "cell_type": "code",
      "source": [
        "import numpy as np\n",
        "import matplotlib.pyplot as plt\n",
        "import pandas as pd\n"
      ],
      "metadata": {
        "id": "lwlOvM-bVevy"
      },
      "execution_count": 2,
      "outputs": []
    },
    {
      "cell_type": "markdown",
      "source": [
        "### Task 01\n",
        "\n",
        "Build and fit a regression model to predict the HOMO-LUMO gap (`HL_Gap`) in `y_train.csv` using the molecular feature vectors in `x_train.csv` as the input. Evaluate your regression model using the mean-squared error (MSE), and optimise the hyperparameters of your regression model to obtain the best performance possible on unseen data.\n",
        "\n",
        "You can use any regression model implemented in Scikit-Learn; you are not restricted to models that we have discussed in the lectures and associated workshops. Show evidence that you have:\n",
        "\n",
        "- considered more than one regression model.\n",
        "- optimised the hyperparameters of your chosen regression model on held-out data.\n",
        "- evaluated your chosen regression model on held-out data."
      ],
      "metadata": {
        "id": "9wTOJ4fGSjNb"
      }
    },
    {
      "cell_type": "code",
      "source": [
        "from sklearn.metrics import mean_squared_error, r2_score\n",
        "# Load feature vectors\n",
        "x_train = pd.read_csv('/content/drive/MyDrive/MLAssessment/x_train.csv')\n",
        "\n",
        "# Load HOMO-LUMO gap values\n",
        "y_train = pd.read_csv('/content/drive/MyDrive/MLAssessment/y_train.csv')['HL_Gap']"
      ],
      "metadata": {
        "id": "Krk0hcro2XWl"
      },
      "execution_count": 3,
      "outputs": []
    },
    {
      "cell_type": "code",
      "source": [
        "from sklearn.model_selection import train_test_split\n",
        "from sklearn.metrics import mean_squared_error\n",
        "from sklearn.preprocessing import StandardScaler\n",
        "from sklearn.model_selection import GridSearchCV\n",
        "from sklearn.pipeline import Pipeline\n",
        "from sklearn.model_selection import cross_val_score\n",
        "from sklearn.metrics import r2_score\n"
      ],
      "metadata": {
        "id": "f2OeEjd6sZLD"
      },
      "execution_count": 4,
      "outputs": []
    },
    {
      "cell_type": "code",
      "source": [
        "# Split the data into training and testing sets\n",
        "x_train, x_test, y_train, y_test = train_test_split(x_train, y_train, test_size=0.2, random_state=1)"
      ],
      "metadata": {
        "id": "iP01YD-0mYqc"
      },
      "execution_count": 5,
      "outputs": []
    },
    {
      "cell_type": "markdown",
      "source": [
        "# Used KNN Regression model"
      ],
      "metadata": {
        "id": "hdpmvuA5pnKq"
      }
    },
    {
      "cell_type": "code",
      "source": [
        "from sklearn.neighbors import KNeighborsRegressor\n",
        "\n",
        "# Creating a pipeline with standard scaling and KNN regression\n",
        "pipeline = Pipeline([\n",
        "    ('scaler', StandardScaler()),\n",
        "    ('model', KNeighborsRegressor())\n",
        "])\n",
        "\n",
        "# Creating the hyperparameters grid to search\n",
        "param_grid = {\n",
        "    'model__n_neighbors': [1, 3, 5, 7, 9],  # Adjust as needed\n",
        "    'model__weights': ['uniform', 'distance'],\n",
        "}\n",
        "\n",
        "# Using GridSearchCV for hyperparameter tuning\n",
        "grid_search = GridSearchCV(\n",
        "    estimator=pipeline,\n",
        "    param_grid=param_grid,\n",
        "    scoring='neg_mean_squared_error',  # Using MSE as the scoring metric\n",
        "    cv=5  # 5-fold cross-validation\n",
        ")\n",
        "\n",
        "# Fitting the grid search to the training data\n",
        "grid_search.fit(x_train, y_train)\n",
        "\n",
        "# Getting the best model and its hyperparameters\n",
        "best_model = grid_search.best_estimator_\n",
        "best_params = grid_search.best_params_\n",
        "\n",
        "# Predicting on the test set using the best model\n",
        "y_predict = best_model.predict(x_test)\n",
        "\n",
        "# Calculating Mean Squared Error\n",
        "mse = mean_squared_error(y_test, y_predict)\n",
        "print(f'Mean Squared Error on Test Set: {mse}')\n",
        "\n",
        "\n",
        "# Creating scores for cross validation\n",
        "scores = cross_val_score(pipeline, x_train, y_train, cv=5, scoring='neg_mean_squared_error')\n",
        "\n",
        "# Print the scores\n",
        "print(f'Cross-validated MSE scores: {scores}')\n",
        "\n",
        "\n",
        "# Print the best hyperparameters\n",
        "print('Best Hyperparameters:', best_params)\n",
        "\n",
        "# Calculating R-squared\n",
        "r_squared = r2_score(y_test, y_predict)\n",
        "print(f'R-squared: {r_squared}')\n",
        "\n",
        "\n"
      ],
      "metadata": {
        "colab": {
          "base_uri": "https://localhost:8080/"
        },
        "id": "vt3s1UBKo2cX",
        "outputId": "17d3d8e0-ddae-4a14-9be5-44abb37ba2e8"
      },
      "execution_count": 6,
      "outputs": [
        {
          "output_type": "stream",
          "name": "stdout",
          "text": [
            "Mean Squared Error on Test Set: 0.0009320406225926713\n",
            "Cross-validated MSE scores: [-0.00088335 -0.00088073 -0.00093547 -0.0009527  -0.00092985]\n",
            "Best Hyperparameters: {'model__n_neighbors': 9, 'model__weights': 'distance'}\n",
            "R-squared: 0.2688274437749677\n"
          ]
        }
      ]
    },
    {
      "cell_type": "markdown",
      "source": [
        "# Used Lasso Regression"
      ],
      "metadata": {
        "id": "1lybuhbIpadp"
      }
    },
    {
      "cell_type": "code",
      "source": [
        "from sklearn.linear_model import Lasso\n",
        "\n",
        "# Create a pipeline with standard scaling and Lasso regression\n",
        "pipeline = Pipeline([\n",
        "    ('scaler', StandardScaler()),\n",
        "    ('model', Lasso())\n",
        "])\n",
        "\n",
        "# Hyperparameters for grid search\n",
        "param_grid = {\n",
        "    'model__alpha': [0.001, 0.002, 0.003, 0.004, 0.005]\n",
        "}\n",
        "\n",
        "# Creating GridSearchCV\n",
        "grid_search = GridSearchCV(pipeline, param_grid, cv=5, scoring='neg_mean_squared_error')\n",
        "\n",
        "# Fitting the pipeline to the training data\n",
        "grid_search.fit(x_train, y_train)\n",
        "\n",
        "# Predicting on the test set\n",
        "y_predict = grid_search.predict(x_test)\n",
        "\n",
        "# Calculating Mean Squared Error\n",
        "mse = mean_squared_error(y_test, y_predict)\n",
        "print(f'Mean Squared Error on Test Set: {mse}')\n",
        "\n",
        "\n",
        "# Creating scores for cross validation\n",
        "scores = cross_val_score(pipeline, x_train, y_train, cv=5, scoring='neg_mean_squared_error')\n",
        "\n",
        "# Print the scores\n",
        "print(f'Cross-validated MSE scores: {scores}')\n",
        "\n",
        "# Print the best hyperparameters\n",
        "best_alpha = grid_search.best_params_['model__alpha']\n",
        "print(f'Best alpha: {best_alpha}')\n",
        "\n",
        "# Calculating R-squared\n",
        "r_squared = r2_score(y_test, y_predict)\n",
        "print(f'R-squared: {r_squared}')"
      ],
      "metadata": {
        "colab": {
          "base_uri": "https://localhost:8080/"
        },
        "id": "epDqlWT1rLyT",
        "outputId": "1b88e44e-4e98-4219-e4dd-f10cfce7f7fd"
      },
      "execution_count": 7,
      "outputs": [
        {
          "output_type": "stream",
          "name": "stdout",
          "text": [
            "Mean Squared Error on Test Set: 0.001256803688048296\n",
            "Cross-validated MSE scores: [-0.00119762 -0.00118079 -0.00127155 -0.00119584 -0.0012161 ]\n",
            "Best alpha: 0.002\n",
            "R-squared: 0.014055457468054922\n"
          ]
        }
      ]
    },
    {
      "cell_type": "markdown",
      "source": [
        "# Used Linear Regression Model"
      ],
      "metadata": {
        "id": "buwwx-j3qtuv"
      }
    },
    {
      "cell_type": "code",
      "source": [
        "from sklearn.linear_model import LinearRegression\n",
        "\n",
        "# Creating a pipeline for linear regression\n",
        "pipeline = Pipeline([\n",
        "    ('scaler', StandardScaler()),  # Example: StandardScaler for preprocessing\n",
        "    ('model', LinearRegression())  # Linear Regression as the model\n",
        "])\n",
        "\n",
        "# Fitting the pipeline to the training data\n",
        "pipeline.fit(x_train, y_train)\n",
        "\n",
        "# Predicting on the test set\n",
        "y_predict = pipeline.predict(x_test)\n",
        "\n",
        "# Calculating the Mean Squared Error\n",
        "mse = mean_squared_error(y_test, y_predict)\n",
        "print(f'Mean Squared Error: {mse}')\n",
        "\n",
        "\n",
        "\n",
        "# Creating scores for cross validation\n",
        "scores = cross_val_score(pipeline, x_train, y_train, cv=5, scoring='neg_mean_squared_error')\n",
        "\n",
        "# Print the scores\n",
        "print(f'Cross-validated MSE scores: {scores}')\n",
        "\n",
        "# Calculating R-squared\n",
        "r_squared = r2_score(y_test, y_predict)\n",
        "print(f'R-squared: {r_squared}')\n",
        "\n",
        "# Linear model doesn't have hyper parameter to tune\n"
      ],
      "metadata": {
        "colab": {
          "base_uri": "https://localhost:8080/"
        },
        "id": "UjHIFeLHRbq5",
        "outputId": "25cce7d0-783e-428c-ab1d-139177d5b324"
      },
      "execution_count": 8,
      "outputs": [
        {
          "output_type": "stream",
          "name": "stdout",
          "text": [
            "Mean Squared Error: 0.0012308879157783771\n",
            "Cross-validated MSE scores: [-0.00216106 -0.0011408  -0.00117994 -0.0011743  -0.00118809]\n",
            "R-squared: 0.03438601066264835\n"
          ]
        }
      ]
    },
    {
      "cell_type": "markdown",
      "source": [
        "# Used Decision Tree Regressor"
      ],
      "metadata": {
        "id": "UNV3xVCUrGkV"
      }
    },
    {
      "cell_type": "code",
      "source": [
        "# The model will take 11sec or something to run\n",
        "from sklearn.tree import DecisionTreeRegressor\n",
        "\n",
        "# Create a pipeline with standard scaling and Decision Tree regression\n",
        "pipeline = Pipeline([\n",
        "    ('scaler', StandardScaler()),\n",
        "    ('model', DecisionTreeRegressor())\n",
        "])\n",
        "\n",
        "# Hyperparameters for grid search\n",
        "param_grid = {\n",
        "    'model__max_depth': [5, 10, 15],  # Adjust the values as needed\n",
        "    'model__min_samples_split': [2, 5, 10],\n",
        "    'model__min_samples_leaf': [1, 2, 4]\n",
        "}\n",
        "\n",
        "# Creating GridSearchCV\n",
        "grid_search = GridSearchCV(pipeline, param_grid, cv=5, scoring='neg_mean_squared_error')\n",
        "\n",
        "# Fitting the pipeline to the training data\n",
        "grid_search.fit(x_train, y_train)\n",
        "\n",
        "# Predicting on the test set\n",
        "y_predict = grid_search.predict(x_test)\n",
        "\n",
        "# Calculating Mean Squared Error\n",
        "mse = mean_squared_error(y_test, y_predict)\n",
        "print(f'Mean Squared Error on Test Set: {mse}')\n",
        "\n",
        "\n",
        "# Creating scores for cross validation\n",
        "scores = cross_val_score(pipeline, x_train, y_train, cv=5, scoring='neg_mean_squared_error')\n",
        "\n",
        "# Print the scores\n",
        "print(f'Cross-validated MSE scores: {scores}')\n",
        "\n",
        "# Print the best hyperparameters\n",
        "best_params = grid_search.best_params_\n",
        "print(f'Best hyperparameters: {best_params}')\n",
        "\n",
        "# Calculating R-squared\n",
        "r_squared = r2_score(y_test, y_predict)\n",
        "print(f'R-squared: {r_squared}')"
      ],
      "metadata": {
        "colab": {
          "base_uri": "https://localhost:8080/"
        },
        "id": "1ejv88ZYx-x5",
        "outputId": "f20b09bb-2eee-4992-c828-ae278cfbd7be"
      },
      "execution_count": 9,
      "outputs": [
        {
          "output_type": "stream",
          "name": "stdout",
          "text": [
            "Mean Squared Error on Test Set: 0.0010284622109186122\n",
            "Cross-validated MSE scores: [-0.00133607 -0.00148626 -0.00140199 -0.00134579 -0.0014816 ]\n",
            "Best hyperparameters: {'model__max_depth': 5, 'model__min_samples_leaf': 2, 'model__min_samples_split': 2}\n",
            "R-squared: 0.19318608490860978\n"
          ]
        }
      ]
    },
    {
      "cell_type": "markdown",
      "source": [
        "From the above analysis we can select KNN Regression model as best fit as the MSE is minimum for it and the RSquare is better than the rest."
      ],
      "metadata": {
        "id": "qjh1AYh_FX6x"
      }
    },
    {
      "cell_type": "markdown",
      "source": [
        "#### **You will not be able to run the code below as you do not have access to `x_test.csv` and `y_test.csv`.**\n",
        "\n",
        "> This code will load the hidden testing data from `x_test.csv` and `y_test.csv`, predict the HOMO-LUMO gap using your model (assuming your model is assigned to the variable name `model`; **change the code below if you have used a different name!**), and evaluate the final model performance against the values in `y_test.csv` using the mean squared error. Your performance on the hidden testing data is a graded component of the assessment.\n",
        "\n",
        "> Ensure that your final chosen model is complete, fit, and ready to predict after running the last block of code, as the block below will be run afterwards and is expected to run without error.\n",
        "\n",
        "#### **You will not be able to run the code below as you do not have access to `x_test.csv` and `y_test.csv`.**"
      ],
      "metadata": {
        "id": "N9IP2WB7U-jI"
      }
    },
    {
      "cell_type": "code",
      "source": [
        "# YOU WILL NOT BE ABLE TO RUN THIS CODE!\n",
        "\n",
        "from sklearn.metrics import mean_squared_error\n",
        "\n",
        "x_test = np.genfromtxt('x_test.csv', delimiter = ',')\n",
        "y_test = np.genfromtxt('y_test.csv', delimiter = ',')\n",
        "\n",
        "y_predict = model.predict(x_test)\n",
        "\n",
        "mse = mean_squared_error(y_test, y_predict)\n",
        "\n",
        "print(f'Final MSE: {mse:.6f}')"
      ],
      "metadata": {
        "id": "fs8tykO0U_lG",
        "outputId": "c6a9021a-e8dc-4eff-84c3-6952fd990c90",
        "colab": {
          "base_uri": "https://localhost:8080/",
          "height": 391
        }
      },
      "execution_count": 10,
      "outputs": [
        {
          "output_type": "error",
          "ename": "FileNotFoundError",
          "evalue": "ignored",
          "traceback": [
            "\u001b[0;31m---------------------------------------------------------------------------\u001b[0m",
            "\u001b[0;31mFileNotFoundError\u001b[0m                         Traceback (most recent call last)",
            "\u001b[0;32m<ipython-input-10-ffbb220e4116>\u001b[0m in \u001b[0;36m<cell line: 5>\u001b[0;34m()\u001b[0m\n\u001b[1;32m      3\u001b[0m \u001b[0;32mfrom\u001b[0m \u001b[0msklearn\u001b[0m\u001b[0;34m.\u001b[0m\u001b[0mmetrics\u001b[0m \u001b[0;32mimport\u001b[0m \u001b[0mmean_squared_error\u001b[0m\u001b[0;34m\u001b[0m\u001b[0;34m\u001b[0m\u001b[0m\n\u001b[1;32m      4\u001b[0m \u001b[0;34m\u001b[0m\u001b[0m\n\u001b[0;32m----> 5\u001b[0;31m \u001b[0mx_test\u001b[0m \u001b[0;34m=\u001b[0m \u001b[0mnp\u001b[0m\u001b[0;34m.\u001b[0m\u001b[0mgenfromtxt\u001b[0m\u001b[0;34m(\u001b[0m\u001b[0;34m'x_test.csv'\u001b[0m\u001b[0;34m,\u001b[0m \u001b[0mdelimiter\u001b[0m \u001b[0;34m=\u001b[0m \u001b[0;34m','\u001b[0m\u001b[0;34m)\u001b[0m\u001b[0;34m\u001b[0m\u001b[0;34m\u001b[0m\u001b[0m\n\u001b[0m\u001b[1;32m      6\u001b[0m \u001b[0my_test\u001b[0m \u001b[0;34m=\u001b[0m \u001b[0mnp\u001b[0m\u001b[0;34m.\u001b[0m\u001b[0mgenfromtxt\u001b[0m\u001b[0;34m(\u001b[0m\u001b[0;34m'y_test.csv'\u001b[0m\u001b[0;34m,\u001b[0m \u001b[0mdelimiter\u001b[0m \u001b[0;34m=\u001b[0m \u001b[0;34m','\u001b[0m\u001b[0;34m)\u001b[0m\u001b[0;34m\u001b[0m\u001b[0;34m\u001b[0m\u001b[0m\n\u001b[1;32m      7\u001b[0m \u001b[0;34m\u001b[0m\u001b[0m\n",
            "\u001b[0;32m/usr/local/lib/python3.10/dist-packages/numpy/lib/npyio.py\u001b[0m in \u001b[0;36mgenfromtxt\u001b[0;34m(fname, dtype, comments, delimiter, skip_header, skip_footer, converters, missing_values, filling_values, usecols, names, excludelist, deletechars, replace_space, autostrip, case_sensitive, defaultfmt, unpack, usemask, loose, invalid_raise, max_rows, encoding, ndmin, like)\u001b[0m\n\u001b[1;32m   1957\u001b[0m         \u001b[0mfname\u001b[0m \u001b[0;34m=\u001b[0m \u001b[0mos_fspath\u001b[0m\u001b[0;34m(\u001b[0m\u001b[0mfname\u001b[0m\u001b[0;34m)\u001b[0m\u001b[0;34m\u001b[0m\u001b[0;34m\u001b[0m\u001b[0m\n\u001b[1;32m   1958\u001b[0m     \u001b[0;32mif\u001b[0m \u001b[0misinstance\u001b[0m\u001b[0;34m(\u001b[0m\u001b[0mfname\u001b[0m\u001b[0;34m,\u001b[0m \u001b[0mstr\u001b[0m\u001b[0;34m)\u001b[0m\u001b[0;34m:\u001b[0m\u001b[0;34m\u001b[0m\u001b[0;34m\u001b[0m\u001b[0m\n\u001b[0;32m-> 1959\u001b[0;31m         \u001b[0mfid\u001b[0m \u001b[0;34m=\u001b[0m \u001b[0mnp\u001b[0m\u001b[0;34m.\u001b[0m\u001b[0mlib\u001b[0m\u001b[0;34m.\u001b[0m\u001b[0m_datasource\u001b[0m\u001b[0;34m.\u001b[0m\u001b[0mopen\u001b[0m\u001b[0;34m(\u001b[0m\u001b[0mfname\u001b[0m\u001b[0;34m,\u001b[0m \u001b[0;34m'rt'\u001b[0m\u001b[0;34m,\u001b[0m \u001b[0mencoding\u001b[0m\u001b[0;34m=\u001b[0m\u001b[0mencoding\u001b[0m\u001b[0;34m)\u001b[0m\u001b[0;34m\u001b[0m\u001b[0;34m\u001b[0m\u001b[0m\n\u001b[0m\u001b[1;32m   1960\u001b[0m         \u001b[0mfid_ctx\u001b[0m \u001b[0;34m=\u001b[0m \u001b[0mcontextlib\u001b[0m\u001b[0;34m.\u001b[0m\u001b[0mclosing\u001b[0m\u001b[0;34m(\u001b[0m\u001b[0mfid\u001b[0m\u001b[0;34m)\u001b[0m\u001b[0;34m\u001b[0m\u001b[0;34m\u001b[0m\u001b[0m\n\u001b[1;32m   1961\u001b[0m     \u001b[0;32melse\u001b[0m\u001b[0;34m:\u001b[0m\u001b[0;34m\u001b[0m\u001b[0;34m\u001b[0m\u001b[0m\n",
            "\u001b[0;32m/usr/local/lib/python3.10/dist-packages/numpy/lib/_datasource.py\u001b[0m in \u001b[0;36mopen\u001b[0;34m(path, mode, destpath, encoding, newline)\u001b[0m\n\u001b[1;32m    191\u001b[0m \u001b[0;34m\u001b[0m\u001b[0m\n\u001b[1;32m    192\u001b[0m     \u001b[0mds\u001b[0m \u001b[0;34m=\u001b[0m \u001b[0mDataSource\u001b[0m\u001b[0;34m(\u001b[0m\u001b[0mdestpath\u001b[0m\u001b[0;34m)\u001b[0m\u001b[0;34m\u001b[0m\u001b[0;34m\u001b[0m\u001b[0m\n\u001b[0;32m--> 193\u001b[0;31m     \u001b[0;32mreturn\u001b[0m \u001b[0mds\u001b[0m\u001b[0;34m.\u001b[0m\u001b[0mopen\u001b[0m\u001b[0;34m(\u001b[0m\u001b[0mpath\u001b[0m\u001b[0;34m,\u001b[0m \u001b[0mmode\u001b[0m\u001b[0;34m,\u001b[0m \u001b[0mencoding\u001b[0m\u001b[0;34m=\u001b[0m\u001b[0mencoding\u001b[0m\u001b[0;34m,\u001b[0m \u001b[0mnewline\u001b[0m\u001b[0;34m=\u001b[0m\u001b[0mnewline\u001b[0m\u001b[0;34m)\u001b[0m\u001b[0;34m\u001b[0m\u001b[0;34m\u001b[0m\u001b[0m\n\u001b[0m\u001b[1;32m    194\u001b[0m \u001b[0;34m\u001b[0m\u001b[0m\n\u001b[1;32m    195\u001b[0m \u001b[0;34m\u001b[0m\u001b[0m\n",
            "\u001b[0;32m/usr/local/lib/python3.10/dist-packages/numpy/lib/_datasource.py\u001b[0m in \u001b[0;36mopen\u001b[0;34m(self, path, mode, encoding, newline)\u001b[0m\n\u001b[1;32m    531\u001b[0m                                       encoding=encoding, newline=newline)\n\u001b[1;32m    532\u001b[0m         \u001b[0;32melse\u001b[0m\u001b[0;34m:\u001b[0m\u001b[0;34m\u001b[0m\u001b[0;34m\u001b[0m\u001b[0m\n\u001b[0;32m--> 533\u001b[0;31m             \u001b[0;32mraise\u001b[0m \u001b[0mFileNotFoundError\u001b[0m\u001b[0;34m(\u001b[0m\u001b[0;34mf\"{path} not found.\"\u001b[0m\u001b[0;34m)\u001b[0m\u001b[0;34m\u001b[0m\u001b[0;34m\u001b[0m\u001b[0m\n\u001b[0m\u001b[1;32m    534\u001b[0m \u001b[0;34m\u001b[0m\u001b[0m\n\u001b[1;32m    535\u001b[0m \u001b[0;34m\u001b[0m\u001b[0m\n",
            "\u001b[0;31mFileNotFoundError\u001b[0m: x_test.csv not found."
          ]
        }
      ]
    },
    {
      "cell_type": "markdown",
      "source": [
        "### Task 02\n",
        "\n",
        "Build and fit a classification model to predict whether the transition metal has i) less than 6, ii) 6, or iii) more than six neighbouring atoms using the molecular feature vectors in `x_train.csv` as the input. The number of neighbouring atoms (`MND`) is given in `y_train.csv`. Create the following class labels for each of the examples:\n",
        "\n",
        "- **0** (where `MND` < 6)\n",
        "- **1** (where `MND` == 6)\n",
        "- **2** (where `MND` > 6)\n",
        "\n",
        "and use these class labels as targets for your classification model. Evaluate your classification model using the accuracy, and optimise the hyperparameters of your classification model to obtain the best performance possible on unseen data.\n",
        "\n",
        "You can use any classification model implemented in Scikit-Learn; you are not restricted to models that we have discussed in the lectures and associated workshops. Show evidence that you have:\n",
        "\n",
        "- tested more than one classification model.\n",
        "- optimised the hyperparameters of your chosen classification model on held-out data.\n",
        "- evaluated your chosen classification model on held-out data."
      ],
      "metadata": {
        "id": "TTGB74-JXnnP"
      }
    },
    {
      "cell_type": "code",
      "source": [
        "#Re-run the code after getting accuracy for RandomForestClassifier to get the correct accuracy of KNN\n",
        "import pandas as pd\n",
        "from sklearn.model_selection import train_test_split\n",
        "from sklearn.ensemble import RandomForestClassifier\n",
        "from sklearn.metrics import accuracy_score\n",
        "from sklearn.model_selection import GridSearchCV\n",
        "from sklearn.model_selection import RandomizedSearchCV\n",
        "from sklearn.neighbors import KNeighborsClassifier\n",
        "\n",
        "\n",
        "# Load data\n",
        "x_train = pd.read_csv('/content/drive/MyDrive/MLAssessment/x_train.csv')\n",
        "y_train = pd.read_csv('/content/drive/MyDrive/MLAssessment/y_train.csv', header=None, names=['MND'])\n",
        "\n",
        "\n",
        "# Now, lengths should match\n",
        "#print(len(x_train), len(y_train))\n",
        "\n",
        "y_train['MND'] = pd.to_numeric(y_train['MND'], errors='coerce')\n",
        "\n",
        "# Dropped the rows with NaN values in y_train\n",
        "y_train = y_train.dropna()\n",
        "\n",
        "# Now, lengths is match\n",
        "#print(len(x_train), len(y_train))"
      ],
      "metadata": {
        "id": "JRCVqwpmZsK8"
      },
      "execution_count": 16,
      "outputs": []
    },
    {
      "cell_type": "markdown",
      "source": [
        "# Used RandomForestClassifier"
      ],
      "metadata": {
        "id": "7urZF7k5AOxa"
      }
    },
    {
      "cell_type": "code",
      "source": [
        "# Converted MND values to classes: 0 (MND < 6), 1 (MND == 6), 2 (MND > 6)\n",
        "\n",
        "y_train['Class'] = np.where(y_train['MND'] < 6, 0, np.where(y_train['MND'] == 6, 1, 2))\n",
        "\n",
        "# Data has been split\n",
        "x_train, x_test, y_train, y_test = train_test_split(x_train, y_train['Class'], test_size=0.2, random_state=1)\n",
        "\n",
        "\n",
        "\n",
        "#The below code will take around 41sec to run\n",
        "# Setting the RandomForestClassifier\n",
        "model = RandomForestClassifier()\n",
        "# The parameter grid to search\n",
        "param_dist = {\n",
        "    'n_estimators': [25, 50, 75],\n",
        "    'max_depth': [10, 15],\n",
        "    'min_samples_split': [2, 4, 6],\n",
        "    'min_samples_leaf': [1, 2],\n",
        "}\n",
        "\n",
        "# Used RandomizedSearchCV to search for the best parameters\n",
        "random_search = RandomizedSearchCV(estimator=model, param_distributions=param_dist, n_iter=10, cv=5, scoring='accuracy')\n",
        "random_search.fit(x_train, y_train)\n",
        "best_params = random_search.best_params_\n",
        "\n",
        "\n",
        "print(f'Best Hyperparameters: {best_params}')\n",
        "\n",
        "# Make predictions on the test set using the best model\n",
        "best_model = random_search.best_estimator_\n",
        "y_predict = best_model.predict(x_test)\n",
        "\n",
        "#print(\"The data for MND has been classified if MND is less than 6 than 0 else 1\"+y_predict)\n",
        "\n",
        "\n",
        "plt.scatter(np.arange(len(y_test)), y_test, label='True Values', alpha=0.7)\n",
        "\n",
        "# Plot the predicted values\n",
        "plt.scatter(np.arange(len(y_test)), y_predict, label='Predicted Values', alpha=0.7)\n",
        "\n",
        "plt.legend()\n",
        "plt.xlabel('Data Points')\n",
        "plt.ylabel('Values')\n",
        "plt.title('True vs Predicted Values')\n",
        "plt.show()\n"
      ],
      "metadata": {
        "colab": {
          "base_uri": "https://localhost:8080/",
          "height": 489
        },
        "id": "nvoUm7AFm-Kl",
        "outputId": "f3ecd0dd-3827-49a1-e25c-38a7a2698758"
      },
      "execution_count": 12,
      "outputs": [
        {
          "output_type": "stream",
          "name": "stdout",
          "text": [
            "Best Hyperparameters: {'n_estimators': 50, 'min_samples_split': 4, 'min_samples_leaf': 1, 'max_depth': 15}\n"
          ]
        },
        {
          "output_type": "display_data",
          "data": {
            "text/plain": [
              "<Figure size 640x480 with 1 Axes>"
            ],
            "image/png": "[encoded data removed]"
          },
          "metadata": {}
        }
      ]
    },
    {
      "cell_type": "code",
      "source": [
        "# Evaluating the accuracy of the best model\n",
        "accuracy = accuracy_score(y_test, y_predict)\n",
        "print(f'Accuracy of the Best Model: {int(accuracy * 100)} %')"
      ],
      "metadata": {
        "colab": {
          "base_uri": "https://localhost:8080/"
        },
        "id": "73mkLsdown1S",
        "outputId": "0fed1be7-a941-49bd-bc5e-8460776132ac"
      },
      "execution_count": 13,
      "outputs": [
        {
          "output_type": "stream",
          "name": "stdout",
          "text": [
            "Accuracy of the Best Model: 68 %\n"
          ]
        }
      ]
    },
    {
      "cell_type": "markdown",
      "source": [
        "# Used KNN Classifier"
      ],
      "metadata": {
        "id": "9OQMowtvBEeo"
      }
    },
    {
      "cell_type": "code",
      "source": [
        "\n",
        "# Creating a class in data frame creating three cluster for MND < 6, MND = 6 and MND > 6\n",
        "y_train['Class'] = np.where(y_train['MND'] < 6, 0, np.where(y_train['MND'] == 6, 1, 2))\n",
        "\n",
        "\n",
        "\n",
        "# Spliting the data into training and testing sets\n",
        "x_train, x_test, y_train, y_test = train_test_split(x_train, y_train['Class'], test_size=0.2, random_state=42)\n",
        "\n",
        "# The parameter grid to search\n",
        "param_grid = {\n",
        "    'n_neighbors': [3, 5, 7],\n",
        "    'weights': ['uniform', 'distance'],\n",
        "    'p': [1, 2]  # 1 for Manhattan distance, 2 for Euclidean distance\n",
        "}\n",
        "\n",
        "# Create a KNN Classifier\n",
        "knn_model = KNeighborsClassifier()\n",
        "\n",
        "# Use GridSearchCV to search for the best parameters\n",
        "grid_search = GridSearchCV(estimator=knn_model, param_grid=param_grid, cv=5, scoring='accuracy')\n",
        "grid_search.fit(x_train, y_train)\n",
        "\n",
        "# Get the best parameters\n",
        "best_params = grid_search.best_params_\n",
        "print(f'Best Hyperparameters: {best_params}')\n",
        "\n",
        "# Make predictions on the test set using the best model\n",
        "best_model = grid_search.best_estimator_\n",
        "y_predict = best_model.predict(x_test)\n",
        "\n",
        "# The accuracy of the best model\n",
        "accuracy = accuracy_score(y_test, y_predict)\n",
        "print(f'Accuracy of the Best Model: {int(accuracy * 100)}%')\n"
      ],
      "metadata": {
        "colab": {
          "base_uri": "https://localhost:8080/"
        },
        "id": "mLHqbyRHHJkK",
        "outputId": "0b2a8ffb-cfa8-4480-8ff5-1cd37c1e26bb"
      },
      "execution_count": 17,
      "outputs": [
        {
          "output_type": "stream",
          "name": "stdout",
          "text": [
            "Best Hyperparameters: {'n_neighbors': 3, 'p': 1, 'weights': 'distance'}\n",
            "Accuracy of the Best Model: 70%\n"
          ]
        }
      ]
    },
    {
      "cell_type": "markdown",
      "source": [
        "From above we can conclude that KNN is the best Classifier as it provides good accuracy than Randome Forest Classifier in the above dataframe."
      ],
      "metadata": {
        "id": "EOKvyaBzCx4G"
      }
    },
    {
      "cell_type": "markdown",
      "source": [
        "#### **You will not be able to run the code below as you do not have access to `x_test.csv` and `y_test.csv`.**\n",
        "\n",
        "This code will load the hidden testing data from `x_test.csv` and `y_test.csv`, predict the class label using your model (assuming your model is assigned to the variable name `model`; **change the code below if you have used a different name!**), and evaluate the final model performance against the values in `y_test.csv` using the accuracy. Your performance on the hidden testing data is a graded component of the assessment.\n",
        "\n",
        "Ensure that your final chosen model is complete, fit, and ready to predict after running the last block of code, as the block below will be run afterwards and is expected to run without error.\n",
        "\n",
        "#### **You will not be able to run the code below as you do not have access to `x_test.csv` and `y_test.csv`.**"
      ],
      "metadata": {
        "id": "h27cHgbYZvJ9"
      }
    },
    {
      "cell_type": "code",
      "source": [
        "# YOU WILL NOT BE ABLE TO RUN THIS CODE!\n",
        "\n",
        "from sklearn.metrics import accuracy_score\n",
        "\n",
        "x_test = np.genfromtxt('x_test.csv', delimiter = ',')\n",
        "y_test = np.genfromtxt('y_test.csv', delimiter = ',')\n",
        "\n",
        "y_predict = model.predict(x_test)\n",
        "\n",
        "accuracy = accuracy_score(y_test, y_predict)\n",
        "\n",
        "print(f'Final Accuracy: {accuracy:.6f}')"
      ],
      "metadata": {
        "id": "z1S7i_WFaONH"
      },
      "execution_count": null,
      "outputs": []
    }
  ]
}